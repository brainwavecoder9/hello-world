{
 "cells": [
  {
   "cell_type": "code",
   "execution_count": null,
   "id": "2681edd2-957e-486b-974e-7188f651f951",
   "metadata": {},
   "outputs": [
    {
     "name": "stdout",
     "output_type": "stream",
     "text": [
      "[sudo] password for workbench: "
     ]
    }
   ],
   "source": [
    "!sudo ls -al /root"
   ]
  },
  {
   "cell_type": "code",
   "execution_count": null,
   "id": "1f6abe6a-75f0-48a0-9b00-1f98762a3d87",
   "metadata": {},
   "outputs": [],
   "source": [
    "!"
   ]
  }
 ],
 "metadata": {
  "kernelspec": {
   "display_name": "Python 3 (ipykernel)",
   "language": "python",
   "name": "python3"
  },
  "language_info": {
   "codemirror_mode": {
    "name": "ipython",
    "version": 3
   },
   "file_extension": ".py",
   "mimetype": "text/x-python",
   "name": "python",
   "nbconvert_exporter": "python",
   "pygments_lexer": "ipython3",
   "version": "3.10.12"
  }
 },
 "nbformat": 4,
 "nbformat_minor": 5
}
